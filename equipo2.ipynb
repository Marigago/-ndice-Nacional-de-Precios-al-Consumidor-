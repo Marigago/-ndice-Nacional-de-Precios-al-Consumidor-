{
 "cells": [
  {
   "cell_type": "code",
   "execution_count": 9,
   "id": "4d028cd2",
   "metadata": {},
   "outputs": [],
   "source": [
    "import requests\n",
    "import pandas as pd\n",
    "import plotly.graph_objects as go\n",
    "from statsmodels.tsa.statespace.sarimax import SARIMAX\n",
    " \n",
    "# --- Parámetros ---\n",
    "token     = \"45b0d369-41fd-467a-b7c9-6b862cf3056d\"      # <— reemplaza\n",
    "indicator = \"910493\"              # INPC general 444558 O 910424\n",
    "geo       = \"00000\"               # Nacional (5 ceros)\n",
    "fuente    = \"BIE\"                 # Banco de Información Económica (prueba BISE si hiciera falta)\n",
    "url = (\n",
    "    \"https://www.inegi.org.mx/app/api/indicadores/desarrolladores/jsonxml/\"\n",
    "    f\"INDICATOR/{indicator}/es/{geo}/false/{fuente}/2.0/{token}?type=json\"\n",
    ")\n",
    " \n",
    "# --- Llamada API con manejo de errores legible ---\n",
    "resp = requests.get(url)\n",
    "if resp.status_code != 200:\n",
    "    raise SystemExit(f\"INEGI {resp.status_code}: {resp.text[:400]}\")\n",
    " \n",
    "j = resp.json()"
   ]
  },
  {
   "cell_type": "code",
   "execution_count": 12,
   "id": "0096fbab",
   "metadata": {},
   "outputs": [
    {
     "name": "stderr",
     "output_type": "stream",
     "text": [
      "/var/folders/fd/q5kbvbvd00b4rdf_lfzx0j3m0000gp/T/ipykernel_69593/3599741156.py:17: UserWarning:\n",
      "\n",
      "Could not infer format, so each element will be parsed individually, falling back to `dateutil`. To ensure parsing is consistent and as-expected, please specify a format.\n",
      "\n"
     ]
    }
   ],
   "source": [
    "# --- Graficar serie de tiempo (a partir del JSON `j`) ---\n",
    "\n",
    "import pandas as pd\n",
    "import plotly.graph_objects as go\n",
    "import plotly.io as pio\n",
    "pio.renderers.default = \"browser\"   # abre en navegador por defecto\n",
    "\n",
    "\n",
    "# 1) Convertir JSON a DataFrame mensual\n",
    "series_key = \"Series\" if \"Series\" in j else (\"series\" if \"series\" in j else None)\n",
    "obs = j[series_key][0][\"OBSERVATIONS\"]\n",
    "\n",
    "df = (\n",
    "    pd.DataFrame(obs)[[\"TIME_PERIOD\", \"OBS_VALUE\"]]\n",
    "    .rename(columns={\"TIME_PERIOD\": \"fecha\", \"OBS_VALUE\": \"valor\"})\n",
    ")\n",
    "df[\"fecha\"] = pd.to_datetime(df[\"fecha\"], errors=\"coerce\")\n",
    "df[\"valor\"] = pd.to_numeric(df[\"valor\"], errors=\"coerce\")\n",
    "df = df.dropna().sort_values(\"fecha\").set_index(\"fecha\")\n",
    "# asegurar frecuencia mensual (por si viniera irregular)\n",
    "df = df.asfreq(\"MS\") if df.index.inferred_freq is None else df\n",
    "df = df.resample(\"MS\").last()\n",
    "\n",
    "# 2) Gráfica interactiva con Plotly\n",
    "fig = go.Figure()\n",
    "fig.add_trace(go.Scatter(\n",
    "    x=df.index, y=df[\"valor\"],\n",
    "    mode=\"lines\",\n",
    "    name=\"Serie observada\"\n",
    "))\n",
    "fig.update_layout(\n",
    "    title=f\"Serie de tiempo — Indicador {indicator}\",\n",
    "    xaxis_title=\"Fecha\",\n",
    "    yaxis_title=\"Índice\",\n",
    "    hovermode=\"x unified\",\n",
    "    template=\"plotly_white\"\n",
    ")\n",
    "fig.show()\n"
   ]
  },
  {
   "cell_type": "code",
   "execution_count": 13,
   "id": "b3787439",
   "metadata": {},
   "outputs": [],
   "source": [
    "import plotly.express as px\n",
    "\n",
    "# Filtrar desde 2015\n",
    "df_2015 = df[df.index >= \"2015-01-01\"].copy()\n",
    "\n",
    "# Crear columnas auxiliares para separar por año y mes\n",
    "df_2015[\"Año\"] = df_2015.index.year\n",
    "df_2015[\"Mes\"] = df_2015.index.month\n",
    "\n",
    "# Gráfica de líneas: cada año una curva (mes en eje X)\n",
    "fig = px.line(\n",
    "    df_2015,\n",
    "    x=\"Mes\", y=\"valor\",\n",
    "    color=\"Año\",\n",
    "    markers=True,\n",
    "    title=\"Comportamiento del INPC por año (2015 en adelante)\"\n",
    ")\n",
    "\n",
    "fig.update_layout(\n",
    "    xaxis=dict(tickmode=\"array\", tickvals=list(range(1, 13))),\n",
    "    yaxis_title=\"INPC\",\n",
    "    xaxis_title=\"Mes\",\n",
    "    legend_title=\"Año\",\n",
    "    template=\"plotly_white\"\n",
    ")\n",
    "\n",
    "fig.show()\n"
   ]
  },
  {
   "cell_type": "code",
   "execution_count": null,
   "id": "e8695b8f",
   "metadata": {},
   "outputs": [],
   "source": []
  }
 ],
 "metadata": {
  "kernelspec": {
   "display_name": ".venv",
   "language": "python",
   "name": "python3"
  },
  "language_info": {
   "codemirror_mode": {
    "name": "ipython",
    "version": 3
   },
   "file_extension": ".py",
   "mimetype": "text/x-python",
   "name": "python",
   "nbconvert_exporter": "python",
   "pygments_lexer": "ipython3",
   "version": "3.13.5"
  }
 },
 "nbformat": 4,
 "nbformat_minor": 5
}
